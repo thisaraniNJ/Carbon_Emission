{
  "nbformat": 4,
  "nbformat_minor": 0,
  "metadata": {
    "colab": {
      "provenance": [],
      "mount_file_id": "1xXQYTXDiBd9ARGSL_nLB1J_VuhkLL_9D",
      "authorship_tag": "ABX9TyNl5XevMSKjrZGm2M1XHNMY",
      "include_colab_link": true
    },
    "kernelspec": {
      "name": "python3",
      "display_name": "Python 3"
    },
    "language_info": {
      "name": "python"
    }
  },
  "cells": [
    {
      "cell_type": "markdown",
      "metadata": {
        "id": "view-in-github",
        "colab_type": "text"
      },
      "source": [
        "<a href=\"https://colab.research.google.com/github/thisaraniNJ/Carbon_Emission/blob/main/Carbon_Emission.ipynb\" target=\"_parent\"><img src=\"https://colab.research.google.com/assets/colab-badge.svg\" alt=\"Open In Colab\"/></a>"
      ]
    },
    {
      "cell_type": "markdown",
      "source": [
        "Importing Libraries"
      ],
      "metadata": {
        "id": "QKOocsJhg36Z"
      }
    },
    {
      "cell_type": "code",
      "execution_count": 1,
      "metadata": {
        "id": "3x-g18emgg3V"
      },
      "outputs": [],
      "source": [
        "import pandas as pd"
      ]
    },
    {
      "cell_type": "markdown",
      "source": [
        "Load datasets"
      ],
      "metadata": {
        "id": "eJFux4-1g9iA"
      }
    },
    {
      "cell_type": "code",
      "source": [
        "temperature_data = pd.read_csv('/content/drive/MyDrive/My ML Projects/Carbon Emission Worldwide/temperature.csv')\n",
        "co2_data = pd.read_csv('/content/drive/MyDrive/My ML Projects/Carbon Emission Worldwide/carbon_emmission.csv')"
      ],
      "metadata": {
        "id": "RWz9jI7ahA6J"
      },
      "execution_count": 2,
      "outputs": []
    }
  ]
}